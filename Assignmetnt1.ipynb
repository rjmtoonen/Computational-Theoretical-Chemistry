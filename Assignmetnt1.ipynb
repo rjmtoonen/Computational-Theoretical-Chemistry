{
 "cells": [
  {
   "cell_type": "code",
   "execution_count": 2,
   "metadata": {},
   "outputs": [],
   "source": [
    "import numpy as np\n",
    "import numpy.linalg as lin\n",
    "import plotly.graph_objects as go\n",
    "import scipy.constants as syc\n",
    "import matplotlib.pyplot as plt\n",
    "import scipy.optimize as opt"
   ]
  },
  {
   "cell_type": "code",
   "execution_count": 3,
   "metadata": {},
   "outputs": [],
   "source": [
    "plt.style.use('seaborn-darkgrid')\n",
    "\n",
    "font_settings = {\n",
    "    'font' : 15,\n",
    "    'title_font' : 18\n",
    "}\n",
    "\n",
    "def set_plot_layout(font_settings):\n",
    "    plt.rcParams.update({\n",
    "        'font.size': 15,\n",
    "        'axes.titlesize': 18,\n",
    "        'axes.labelsize': 15,\n",
    "        'xtick.labelsize': 15,\n",
    "        'ytick.labelsize': 15,\n",
    "        'xtick.major.size': 8,\n",
    "        'ytick.major.size': 8,\n",
    "        'legend.fontsize': 15,\n",
    "        'axes.grid': True,\n",
    "        # Add more settings as needed\n",
    "    })\n",
    "\n",
    "%matplotlib qt5"
   ]
  },
  {
   "cell_type": "code",
   "execution_count": 4,
   "metadata": {},
   "outputs": [],
   "source": [
    "# constants\n",
    "light = syc.c\n",
    "hbar = syc.hbar\n",
    "fine_structure = syc.alpha\n",
    "m_e = syc.physical_constants['electron mass in u'][0]\n",
    "bohr = syc.physical_constants['Bohr radius'][0]\n",
    "Hart_m = syc.physical_constants['hartree-inverse meter relationship'][0]\n",
    "Hart = syc.physical_constants['Hartree energy'][0]\n",
    "Hart_time = hbar/Hart\n",
    "Hart_fr = Hart/hbar\n",
    "Hart_light = bohr*Hart/(hbar*fine_structure)\n"
   ]
  },
  {
   "cell_type": "markdown",
   "metadata": {},
   "source": [
    "# Problem 1 : Finite differences of CO\n",
    "We consider a harmonic oscillator where the potential is given by\n",
    "\n",
    "$$V(x) = \\frac{1}{2} kx^2$$\n",
    "\n",
    "Resulting in a hamiltonian of \n",
    "\n",
    "$$H = -\\frac{\\hbar^2}{2m} \\frac{d^2}{dx^2} + \\frac{1}{2} kx^2$$ \n",
    "\n",
    "with m as the reduced mass and k as the harmonic \"spring constant\". \n",
    "Where the reduced mass is __6.857__ u and the \"spring constant\" is __1857__ N/m, with $\\tilde{\\omega_e}$ as the vibrational constant equals __2170__ cm^-1. [1] The bondleght $r_e$ of CO is __112.8__ pm. [2] \n",
    "\n",
    "$$m = \\frac{m_1 m_2}{m_1+m_2}$$\n",
    "\n",
    "$$k = \\omega_e^2 m$$\n",
    "\n",
    "$$ \\omega_e = 2\\pi \\tilde{\\omega}C $$\n",
    "\n",
    "$$ \\psi(x) = \\psi_i + (x-x_i)\\psi_i\\prime + \\frac{1}{2!} (x-x_i)^2\\psi_i\\prime\\prime + \\frac{1}{3!} (x-x_i)^3\\psi_i\\prime\\prime\\prime $$\n",
    "\n",
    "$$ \\psi_i\\prime\\prime = \\frac{\\psi_{i+1}-2\\psi_i+\\psi_{i-1}}{\\Delta^2}$$\n",
    "\n",
    "\n",
    "## The anharmonic oscilator \n",
    "(based on x to the power 4)\n",
    "\n",
    "The potential of the anhormonic oscilator given by a purtabation of the potential energy this is given by:\n",
    "$$\\frac{k}{2} x^2 + \\frac{\\gamma_3}{6} x^3 + \\frac{\\gamma_4}{24} x^4 + ...$$ \n",
    "we can also state $G(\\nu)$ where $G(\\nu)= E_\\nu/hc$ and $G(\\nu) = \\tilde{\\omega} (\\nu + \\frac{1}{2})$ whitout purtabations and $G(\\nu) = \\tilde{\\omega} (\\nu + \\frac{1}{2}) - \\tilde{x_e}\\tilde{\\omega_e} (\\nu + \\frac{1}{2})^2 + ...$\n",
    "\n",
    "In the case of the anhormonic oscilator we use the second equation.\n",
    "\n",
    "$$\\gamma_4 = k^2/\\hbar\\omega$$\n",
    "\n",
    "\n",
    "\n",
    "[1] Quantum Chemisty, D.A. Mc Quarrie (2008), p. 221\n",
    "\n",
    "[2] https://en.wikipedia.org/wiki/Carbon_monoxide#:~:text=The%20bond%20length%20between%20the,nearly%20the%20same%20molecular%20mass\n",
    "\n",
    "[3] http://openmopac.net/manual/vibrational_frequencies.html"
   ]
  },
  {
   "cell_type": "code",
   "execution_count": 37,
   "metadata": {},
   "outputs": [
    {
     "ename": "",
     "evalue": "",
     "output_type": "error",
     "traceback": [
      "\u001b[1;31mThe Kernel crashed while executing code in the the current cell or a previous cell. Please review the code in the cell(s) to identify a possible cause of the failure. Click <a href='https://aka.ms/vscodeJupyterKernelCrash'>here</a> for more info. View Jupyter <a href='command:jupyter.viewOutput'>log</a> for further details."
     ]
    }
   ],
   "source": [
    "Wn = 217000/Hart_m #m^-1 in hartree, vibrarional constant of the CO bond \n",
    "Re = 112.8*10**-12 / bohr #m in borh radia , bondlength of CO bond\n",
    "Mass = 6.857/m_e #u in electron masses, reduced mass of the system\n",
    "k = (2*syc.pi*Hart_light*Wn**2)*Mass #N/m spring constant\n",
    "k2 = k**2 *Wn*Hart_light /hbar #N/m spring constant"
   ]
  },
  {
   "cell_type": "code",
   "execution_count": 36,
   "metadata": {},
   "outputs": [
    {
     "name": "stdout",
     "output_type": "stream",
     "text": [
      "1.5457327861644038e-50\n"
     ]
    }
   ],
   "source": [
    "print(k/k2)"
   ]
  },
  {
   "cell_type": "markdown",
   "metadata": {},
   "source": [
    "## Functions"
   ]
  },
  {
   "cell_type": "code",
   "execution_count": 6,
   "metadata": {},
   "outputs": [],
   "source": [
    "def grid(steps,cls):\n",
    "    '''This grid is based characteristic length scale of the harmonic oscilator (cls) and the amount of steps taken.\n",
    "       It was tested for a cls of 1 that a grid size of 10 cls in total is the reasonable for first 5 eigen functions. \n",
    "       However, after introducing the constants in SI units the eigenvalues and -functions were off. \n",
    "       It could be seen that the relative kinetic to potential energy of the hamiltonian was much lower \n",
    "       indicating that the grid was to large. Decreasing the grid from 10 cls to 2 cls resolved this.\n",
    "    '''\n",
    "\n",
    "    \n",
    "    x = np.linspace(-cls,cls,steps)\n",
    "    dx = 2*cls/(steps-1)\n",
    "   \n",
    "    \n",
    "    return x,dx\n"
   ]
  },
  {
   "cell_type": "code",
   "execution_count": 7,
   "metadata": {},
   "outputs": [],
   "source": [
    "def T_fdm(size,mass,dx,hbar = hbar):\n",
    "    '''finite difference method giving the kinetic energy in jules'''\n",
    "\n",
    "    d = np.diag(2*np.ones(size))\n",
    "    d1 = np.diag(-1*np.ones(size-1),1)\n",
    "    d2 = np.diag(-1*np.ones(size-1),-1)\n",
    "            \n",
    "    return hbar**2/(2*mass*dx**2)*(d + d1 + d2)\n",
    "\n",
    "def V_harmon(k,x):\n",
    "    '''Function for the potential of the harmonic ossiclator. First add the constant k and then the x values of the grid'''      \n",
    "    return np.diag(1/2*k*x**2)\n",
    "\n",
    "def V_add (k,k2,x):\n",
    "    return np.diag(1/2*k*x**2 + 1/24*k2*x**4)\n"
   ]
  },
  {
   "cell_type": "code",
   "execution_count": 8,
   "metadata": {},
   "outputs": [],
   "source": [
    "def EIG(steps, cls, mass, k , k2 = 0, hbar = hbar): \n",
    "    [x,dx] = grid(steps,cls)\n",
    "    T = T_fdm(steps,mass,dx, hbar)\n",
    "    V = V_add (k,k2,x)\n",
    "    H = T + V\n",
    "    return np.linalg.eig(H)\n"
   ]
  },
  {
   "cell_type": "markdown",
   "metadata": {},
   "source": [
    "## Testing the functions\n",
    "The functions were tested by putting all constants to 1."
   ]
  },
  {
   "cell_type": "code",
   "execution_count": 9,
   "metadata": {},
   "outputs": [],
   "source": [
    "steps = 100\n",
    "x = np.linspace(-5,5,steps)\n",
    "dx = 10/(steps-1)\n",
    "\n",
    "V = np.diag(1/2*x**2)\n",
    "\n",
    "d = np.diag(2*np.ones(steps))\n",
    "d1 = np.diag(-1*np.ones(steps-1),1)\n",
    "d2 = np.diag(-1*np.ones(steps-1),-1)\n",
    "T = (d + d1 + d2)/(2*dx**2)\n",
    "\n",
    "H = T + V"
   ]
  },
  {
   "cell_type": "code",
   "execution_count": 10,
   "metadata": {},
   "outputs": [
    {
     "data": {
      "text/plain": [
       "array([[ True,  True,  True, ...,  True,  True,  True],\n",
       "       [ True,  True,  True, ...,  True,  True,  True],\n",
       "       [ True,  True,  True, ...,  True,  True,  True],\n",
       "       ...,\n",
       "       [ True,  True,  True, ...,  True,  True,  True],\n",
       "       [ True,  True,  True, ...,  True,  True,  True],\n",
       "       [ True,  True,  True, ...,  True,  True,  True]])"
      ]
     },
     "execution_count": 10,
     "metadata": {},
     "output_type": "execute_result"
    }
   ],
   "source": [
    "[x,dx] = grid(100,5)\n",
    "T2 = T_fdm(100,1,dx,1)\n",
    "V2 = V_harmon(1,x)\n",
    "\n",
    "H2 = T2 + V2\n",
    "H == H2"
   ]
  },
  {
   "cell_type": "markdown",
   "metadata": {},
   "source": [
    "As can be seen in the previous cell both methods one 'brute force' and one via functions yielding the same hamiltonion, meaning that we can use the functions in upcoming calcultions. "
   ]
  },
  {
   "cell_type": "code",
   "execution_count": 11,
   "metadata": {},
   "outputs": [
    {
     "name": "stdout",
     "output_type": "stream",
     "text": [
      "7.840800000000001\n"
     ]
    }
   ],
   "source": [
    "#This is a check as you don't want T > V with a good margin so ~ an order greater\n",
    "Energy_proportion_check = np.diag(T)[0]/np.diag(V)[0] \n",
    "print(Energy_proportion_check)  "
   ]
  },
  {
   "cell_type": "markdown",
   "metadata": {},
   "source": [
    "The energy proportion check is 7.84 which is close enough to one order of magnitude. Meaning that the kinetic anergy is dominant over the potential energy, but that the potential enenrgy still has enough influence on the system to get the desired pertubation in H. As can be seen in the plot below."
   ]
  },
  {
   "cell_type": "code",
   "execution_count": 12,
   "metadata": {},
   "outputs": [
    {
     "data": {
      "text/plain": [
       "Text(0.5, -0.1, 'Red is the potential energy of the system and Blue the total energy')"
      ]
     },
     "execution_count": 12,
     "metadata": {},
     "output_type": "execute_result"
    }
   ],
   "source": [
    "fig, axes = plt.subplots(figsize=(9, 8))\n",
    "plt.plot(x,np.diag(V), 'r', label='Potential energy')\n",
    "plt.plot(x,np.diag(H), 'b', label='Totale hamitonian')\n",
    "plt.ylabel('Energy [J]')\n",
    "plt.xlabel('Bond leght [m]')\n",
    "plt.legend()\n",
    "\n",
    "plt.figtext(0.5, -0.1, 'Red is the potential energy of the system and Blue the total energy',\n",
    "            wrap=True, horizontalalignment='center', fontsize=12)"
   ]
  },
  {
   "cell_type": "code",
   "execution_count": 13,
   "metadata": {},
   "outputs": [
    {
     "data": {
      "text/plain": [
       "<matplotlib.legend.Legend at 0x1ec5a3c8550>"
      ]
     },
     "execution_count": 13,
     "metadata": {},
     "output_type": "execute_result"
    }
   ],
   "source": [
    "e,f = np.linalg.eig(H) # liniarization\n",
    "\n",
    "fig, axes = plt.subplots(figsize=(9, 8))\n",
    "plt.ylabel('Amplitude')\n",
    "plt.xlabel('Step')\n",
    "plt.plot(f[:,:5])\n",
    "plt.legend([\n",
    "        'Eigenfunction 1', \n",
    "        'Eigenfunction 2',\n",
    "        'Eigenfunction 3',\n",
    "        'Eigenfunction 4',\n",
    "        'Eigenfunction 5'\n",
    "        ])"
   ]
  },
  {
   "cell_type": "code",
   "execution_count": 23,
   "metadata": {},
   "outputs": [
    {
     "data": {
      "text/plain": [
       "(array([ True,  True,  True,  True,  True,  True,  True,  True,  True,\n",
       "         True,  True,  True,  True,  True,  True,  True,  True,  True,\n",
       "         True,  True,  True,  True,  True,  True,  True,  True,  True,\n",
       "         True,  True,  True,  True,  True,  True,  True,  True,  True,\n",
       "         True,  True,  True,  True,  True,  True,  True,  True,  True,\n",
       "         True,  True,  True,  True,  True,  True,  True,  True,  True,\n",
       "         True,  True,  True,  True,  True,  True,  True,  True,  True,\n",
       "         True,  True,  True,  True,  True,  True,  True,  True,  True,\n",
       "         True,  True,  True,  True,  True,  True,  True,  True,  True,\n",
       "         True,  True,  True,  True,  True,  True,  True,  True,  True,\n",
       "         True,  True,  True,  True,  True,  True,  True,  True,  True,\n",
       "         True]),\n",
       " array([[ True,  True,  True, ...,  True,  True,  True],\n",
       "        [ True,  True,  True, ...,  True,  True,  True],\n",
       "        [ True,  True,  True, ...,  True,  True,  True],\n",
       "        ...,\n",
       "        [ True,  True,  True, ...,  True,  True,  True],\n",
       "        [ True,  True,  True, ...,  True,  True,  True],\n",
       "        [ True,  True,  True, ...,  True,  True,  True]]))"
      ]
     },
     "execution_count": 23,
     "metadata": {},
     "output_type": "execute_result"
    }
   ],
   "source": [
    "e2,f2 = EIG(100,5,1,1, 0,1)\n",
    "#e == e2, f == f2 "
   ]
  },
  {
   "cell_type": "markdown",
   "metadata": {},
   "source": [
    "As can be seen again that the function EIG works as expected as it follows our previous results, which is to be expected as we only combined all the previous function into 1 and applied linirization."
   ]
  },
  {
   "cell_type": "markdown",
   "metadata": {},
   "source": [
    "##  based on characteristic length scale\n",
    "\n",
    "In this case $ a = \\sqrt{\\hbar/\\omega m}$ or in other words $a = \\sqrt{h c \\tilde{\\omega}/ m}$, where a is the characteristic length scale of CO."
   ]
  },
  {
   "cell_type": "code",
   "execution_count": null,
   "metadata": {},
   "outputs": [],
   "source": []
  },
  {
   "cell_type": "code",
   "execution_count": null,
   "metadata": {},
   "outputs": [],
   "source": [
    "e_CO,f_CO = EIG(100,5,1,1, 0,1)"
   ]
  }
 ],
 "metadata": {
  "kernelspec": {
   "display_name": "base",
   "language": "python",
   "name": "python3"
  },
  "language_info": {
   "codemirror_mode": {
    "name": "ipython",
    "version": 3
   },
   "file_extension": ".py",
   "mimetype": "text/x-python",
   "name": "python",
   "nbconvert_exporter": "python",
   "pygments_lexer": "ipython3",
   "version": "3.9.12"
  }
 },
 "nbformat": 4,
 "nbformat_minor": 2
}
